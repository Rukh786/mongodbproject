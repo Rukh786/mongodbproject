{
 "cells": [
  {
   "cell_type": "markdown",
   "id": "8b4fa04b",
   "metadata": {},
   "source": [
    "## Assignment 1\n",
    "**Deadline**: 23rd September 2024\n",
    "\n",
    "This assessment consists of 20 MongoDB queries, ranging from easy to hard. You are required to use the following sample data:\n",
    "\n",
    "```json\n",
    "\n",
    "    students = [\n",
    "        {\"name\": \"Rohit\", \"age\": 23, \"math_score\": 85, \"physics_score\": 90, \"city\": \"New York\"},\n",
    "        {\"name\": \"Eram\", \"age\": 22, \"math_score\": 78, \"physics_score\": 75, \"city\": \"Los Angeles\"},\n",
    "        {\"name\": \"Madan\", \"age\": 24, \"math_score\": 95, \"physics_score\": 88, \"city\": \"Chicago\"},\n",
    "        {\"name\": \"Uvaish\", \"age\": 21, \"math_score\": 60, \"physics_score\": 65, \"city\": \"Houston\"},\n",
    "        {\"name\": \"Neha\", \"age\": 23, \"math_score\": 72, \"physics_score\": 80, \"city\": \"Phoenix\"}\n",
    "    ]\n",
    "\n",
    "\n",
    "```\n",
    "\n",
    "Please submit your solutions by the given deadline.\n",
    "pip install pymongo\n"
   ]
  },
  {
   "cell_type": "markdown",
   "id": "3e733b76",
   "metadata": {},
   "source": [
    "1. Insert the given sample data into a MongoDB collection called 'students'."
   ]
  },
  {
   "cell_type": "code",
   "execution_count": 3,
   "id": "03d2d6e6",
   "metadata": {},
   "outputs": [],
   "source": [
    "import pymongo\n",
    "        \n",
    "client = pymongo.MongoClient(\"mongodb://localhost:27017/\")\n",
    "\n",
    "# Accessing the Database\n",
    "mydb = client[\"mymongo\"]\n",
    "\n",
    "# Creating Collection\n",
    "collection = mydb.Internship\n",
    "\n",
    "# Accessing Collection\n",
    "collection = mydb[\"Internship\"]\n",
    "\n",
    "\n",
    "\n"
   ]
  },
  {
   "cell_type": "code",
   "execution_count": 61,
   "id": "6c7ff83c",
   "metadata": {},
   "outputs": [
    {
     "data": {
      "text/plain": [
       "InsertManyResult([ObjectId('66efa838bd12b27e29034c13'), ObjectId('66efa838bd12b27e29034c14'), ObjectId('66efa838bd12b27e29034c15'), ObjectId('66efa838bd12b27e29034c16'), ObjectId('66efa838bd12b27e29034c17')], acknowledged=True)"
      ]
     },
     "execution_count": 61,
     "metadata": {},
     "output_type": "execute_result"
    }
   ],
   "source": [
    "students = [\n",
    "        {\"name\": \"Rohit\", \"age\": 23, \"math_score\": 85, \"physics_score\": 90, \"city\": \"New York\"},\n",
    "        {\"name\": \"Eram\", \"age\": 22, \"math_score\": 78, \"physics_score\": 75, \"city\": \"Los Angeles\"},\n",
    "        {\"name\": \"Madan\", \"age\": 24, \"math_score\": 95, \"physics_score\": 88, \"city\": \"Chicago\"},\n",
    "        {\"name\": \"Uvaish\", \"age\": 21, \"math_score\": 60, \"physics_score\": 65, \"city\": \"Houston\"},\n",
    "        {\"name\": \"Neha\", \"age\": 23, \"math_score\": 72, \"physics_score\": 80, \"city\": \"Phoenix\"}\n",
    "\n",
    "]\n",
    "      \n",
    "\n",
    "\n",
    "collection.insert_many(students)                               \n"
   ]
  },
  {
   "cell_type": "code",
   "execution_count": 74,
   "id": "c5d13af0",
   "metadata": {},
   "outputs": [
    {
     "name": "stdout",
     "output_type": "stream",
     "text": [
      "{'_id': ObjectId('66eed2f2bd12b27e29034c0e'), 'name': 'Rohit', 'age': 23, 'math_score': 85, 'physics_score': 90, 'city': 'New York'}\n",
      "{'_id': ObjectId('66eed2f2bd12b27e29034c0f'), 'name': 'Eram', 'age': 22, 'math_score': 78, 'physics_score': 75, 'city': 'Los Angeles'}\n",
      "{'_id': ObjectId('66eed2f2bd12b27e29034c10'), 'name': 'Madan', 'age': 24, 'math_score': 95, 'physics_score': 88, 'city': 'Chicago'}\n",
      "{'_id': ObjectId('66eed2f2bd12b27e29034c11'), 'name': 'Uvaish', 'age': 21, 'math_score': 60, 'physics_score': 65, 'city': 'Houston'}\n",
      "{'_id': ObjectId('66eed2f2bd12b27e29034c12'), 'name': 'Neha', 'age': 23, 'math_score': 72, 'physics_score': 80, 'city': 'Phoenix'}\n",
      "{'_id': ObjectId('66efa838bd12b27e29034c13'), 'name': 'Rohit', 'age': 23, 'math_score': 85, 'physics_score': 90, 'city': 'New York'}\n",
      "{'_id': ObjectId('66efa838bd12b27e29034c14'), 'name': 'Eram', 'age': 22, 'math_score': 78, 'physics_score': 75, 'city': 'Los Angeles'}\n",
      "{'_id': ObjectId('66efa838bd12b27e29034c15'), 'name': 'Madan', 'age': 24, 'math_score': 95, 'physics_score': 88, 'city': 'Chicago'}\n",
      "{'_id': ObjectId('66efa838bd12b27e29034c16'), 'name': 'Uvaish', 'age': 21, 'math_score': 60, 'physics_score': 65, 'city': 'Houston'}\n",
      "{'_id': ObjectId('66efa838bd12b27e29034c17'), 'name': 'Neha', 'age': 23, 'math_score': 72, 'physics_score': 80, 'city': 'Phoenix'}\n"
     ]
    }
   ],
   "source": [
    "for student in collection.find():\n",
    "    print(student)"
   ]
  },
  {
   "cell_type": "markdown",
   "id": "c63a46c2",
   "metadata": {},
   "source": [
    "2. Write a query to find all students who have a 'math_score' greater than 80."
   ]
  },
  {
   "cell_type": "code",
   "execution_count": 62,
   "id": "2a6ca4b7",
   "metadata": {},
   "outputs": [
    {
     "name": "stdout",
     "output_type": "stream",
     "text": [
      "{'_id': ObjectId('66eed2f2bd12b27e29034c0e'), 'name': 'Rohit', 'age': 23, 'math_score': 85, 'physics_score': 90, 'city': 'New York'}\n",
      "{'_id': ObjectId('66eed2f2bd12b27e29034c10'), 'name': 'Madan', 'age': 24, 'math_score': 95, 'physics_score': 88, 'city': 'Chicago'}\n",
      "{'_id': ObjectId('66efa838bd12b27e29034c13'), 'name': 'Rohit', 'age': 23, 'math_score': 85, 'physics_score': 90, 'city': 'New York'}\n",
      "{'_id': ObjectId('66efa838bd12b27e29034c15'), 'name': 'Madan', 'age': 24, 'math_score': 95, 'physics_score': 88, 'city': 'Chicago'}\n"
     ]
    }
   ],
   "source": [
    "query = {\"math_score\": {\"$gt\": 80}}\n",
    "for student in collection.find(query):\n",
    "    print(student)"
   ]
  },
  {
   "cell_type": "markdown",
   "id": "f965853a",
   "metadata": {},
   "source": [
    "3. Write a query to find students whose 'age' is less than 23."
   ]
  },
  {
   "cell_type": "code",
   "execution_count": 63,
   "id": "a5aec39e",
   "metadata": {},
   "outputs": [
    {
     "name": "stdout",
     "output_type": "stream",
     "text": [
      "{'_id': ObjectId('66eed2f2bd12b27e29034c0e'), 'name': 'Rohit', 'age': 23, 'math_score': 85, 'physics_score': 90, 'city': 'New York'}\n",
      "{'_id': ObjectId('66eed2f2bd12b27e29034c0f'), 'name': 'Eram', 'age': 22, 'math_score': 78, 'physics_score': 75, 'city': 'Los Angeles'}\n",
      "{'_id': ObjectId('66eed2f2bd12b27e29034c11'), 'name': 'Uvaish', 'age': 21, 'math_score': 60, 'physics_score': 65, 'city': 'Houston'}\n",
      "{'_id': ObjectId('66eed2f2bd12b27e29034c12'), 'name': 'Neha', 'age': 23, 'math_score': 72, 'physics_score': 80, 'city': 'Phoenix'}\n",
      "{'_id': ObjectId('66efa838bd12b27e29034c13'), 'name': 'Rohit', 'age': 23, 'math_score': 85, 'physics_score': 90, 'city': 'New York'}\n",
      "{'_id': ObjectId('66efa838bd12b27e29034c14'), 'name': 'Eram', 'age': 22, 'math_score': 78, 'physics_score': 75, 'city': 'Los Angeles'}\n",
      "{'_id': ObjectId('66efa838bd12b27e29034c16'), 'name': 'Uvaish', 'age': 21, 'math_score': 60, 'physics_score': 65, 'city': 'Houston'}\n",
      "{'_id': ObjectId('66efa838bd12b27e29034c17'), 'name': 'Neha', 'age': 23, 'math_score': 72, 'physics_score': 80, 'city': 'Phoenix'}\n"
     ]
    }
   ],
   "source": [
    "query ={\"age\":{\"$lte\":23}}\n",
    "for student in collection.find(query):\n",
    "    print(student)"
   ]
  },
  {
   "cell_type": "markdown",
   "id": "88005dde",
   "metadata": {},
   "source": [
    "4. Write a query to return only the 'name' and 'math_score' of all students."
   ]
  },
  {
   "cell_type": "code",
   "execution_count": 66,
   "id": "e6b7545f",
   "metadata": {},
   "outputs": [
    {
     "name": "stdout",
     "output_type": "stream",
     "text": [
      "{'_id': ObjectId('66eed2f2bd12b27e29034c0e'), 'name': 'Rohit', 'math_score': 85}\n",
      "{'_id': ObjectId('66eed2f2bd12b27e29034c0f'), 'name': 'Eram', 'math_score': 78}\n",
      "{'_id': ObjectId('66eed2f2bd12b27e29034c10'), 'name': 'Madan', 'math_score': 95}\n",
      "{'_id': ObjectId('66eed2f2bd12b27e29034c11'), 'name': 'Uvaish', 'math_score': 60}\n",
      "{'_id': ObjectId('66eed2f2bd12b27e29034c12'), 'name': 'Neha', 'math_score': 72}\n",
      "{'_id': ObjectId('66efa838bd12b27e29034c13'), 'name': 'Rohit', 'math_score': 85}\n",
      "{'_id': ObjectId('66efa838bd12b27e29034c14'), 'name': 'Eram', 'math_score': 78}\n",
      "{'_id': ObjectId('66efa838bd12b27e29034c15'), 'name': 'Madan', 'math_score': 95}\n",
      "{'_id': ObjectId('66efa838bd12b27e29034c16'), 'name': 'Uvaish', 'math_score': 60}\n",
      "{'_id': ObjectId('66efa838bd12b27e29034c17'), 'name': 'Neha', 'math_score': 72}\n"
     ]
    }
   ],
   "source": [
    "for student in collection.find({}, {\"name\": 1, \"math_score\": 2}):\n",
    "    print(student)\n"
   ]
  },
  {
   "cell_type": "markdown",
   "id": "7a148d48",
   "metadata": {},
   "source": [
    "5. Write a query to find students from the city 'New York'."
   ]
  },
  {
   "cell_type": "code",
   "execution_count": 67,
   "id": "2acedafc",
   "metadata": {},
   "outputs": [
    {
     "name": "stdout",
     "output_type": "stream",
     "text": [
      "{'_id': ObjectId('66eed2f2bd12b27e29034c0e')}\n",
      "{'_id': ObjectId('66eed2f2bd12b27e29034c0f')}\n",
      "{'_id': ObjectId('66eed2f2bd12b27e29034c10')}\n",
      "{'_id': ObjectId('66eed2f2bd12b27e29034c11')}\n",
      "{'_id': ObjectId('66eed2f2bd12b27e29034c12')}\n",
      "{'_id': ObjectId('66efa838bd12b27e29034c13')}\n",
      "{'_id': ObjectId('66efa838bd12b27e29034c14')}\n",
      "{'_id': ObjectId('66efa838bd12b27e29034c15')}\n",
      "{'_id': ObjectId('66efa838bd12b27e29034c16')}\n",
      "{'_id': ObjectId('66efa838bd12b27e29034c17')}\n"
     ]
    }
   ],
   "source": [
    "for student in collection.find({},{\"New York\"}):\n",
    "    print(student)\n"
   ]
  },
  {
   "cell_type": "markdown",
   "id": "aaa6f033",
   "metadata": {},
   "source": [
    "6. Write a query to update the 'physics_score' of 'Uvaish' to 85."
   ]
  },
  {
   "cell_type": "code",
   "execution_count": 69,
   "id": "ae4d1f5f",
   "metadata": {},
   "outputs": [
    {
     "data": {
      "text/plain": [
       "UpdateResult({'n': 0, 'nModified': 0, 'ok': 1.0, 'updatedExisting': False}, acknowledged=True)"
      ]
     },
     "execution_count": 69,
     "metadata": {},
     "output_type": "execute_result"
    }
   ],
   "source": [
    "collection.update_one({\"Name\": \"Uvaish\"},{\"$set\":{\"physics_score\":85}})\n"
   ]
  },
  {
   "cell_type": "markdown",
   "id": "1df67d31",
   "metadata": {},
   "source": [
    "7. Write a query to delete the student 'Neha' from the collection."
   ]
  },
  {
   "cell_type": "code",
   "execution_count": 76,
   "id": "6899687a",
   "metadata": {},
   "outputs": [
    {
     "data": {
      "text/plain": [
       "DeleteResult({'n': 0, 'ok': 1.0}, acknowledged=True)"
      ]
     },
     "execution_count": 76,
     "metadata": {},
     "output_type": "execute_result"
    }
   ],
   "source": [
    "collection.delete_one({\"Name\":\"Neha\"})"
   ]
  },
  {
   "cell_type": "markdown",
   "id": "ad535a0b",
   "metadata": {},
   "source": [
    "8. Write a query to find all students where 'math_score' is between 70 and 90 (inclusive)."
   ]
  },
  {
   "cell_type": "code",
   "execution_count": 77,
   "id": "7101a2ba",
   "metadata": {},
   "outputs": [
    {
     "name": "stdout",
     "output_type": "stream",
     "text": [
      "{'_id': ObjectId('66eed2f2bd12b27e29034c0e'), 'name': 'Rohit', 'age': 23, 'math_score': 85, 'physics_score': 90, 'city': 'New York'}\n",
      "{'_id': ObjectId('66eed2f2bd12b27e29034c0f'), 'name': 'Eram', 'age': 22, 'math_score': 78, 'physics_score': 75, 'city': 'Los Angeles'}\n",
      "{'_id': ObjectId('66eed2f2bd12b27e29034c12'), 'name': 'Neha', 'age': 23, 'math_score': 72, 'physics_score': 80, 'city': 'Phoenix'}\n",
      "{'_id': ObjectId('66efa838bd12b27e29034c13'), 'name': 'Rohit', 'age': 23, 'math_score': 85, 'physics_score': 90, 'city': 'New York'}\n",
      "{'_id': ObjectId('66efa838bd12b27e29034c14'), 'name': 'Eram', 'age': 22, 'math_score': 78, 'physics_score': 75, 'city': 'Los Angeles'}\n",
      "{'_id': ObjectId('66efa838bd12b27e29034c17'), 'name': 'Neha', 'age': 23, 'math_score': 72, 'physics_score': 80, 'city': 'Phoenix'}\n"
     ]
    }
   ],
   "source": [
    "students_in_range = collection.find({\"math_score\": {\"$gte\": 70, \"$lte\": 90}})\n",
    "for student in students_in_range:\n",
    "    print(student)\n"
   ]
  },
  {
   "cell_type": "code",
   "execution_count": null,
   "id": "6a3c58a8",
   "metadata": {},
   "outputs": [],
   "source": []
  },
  {
   "cell_type": "markdown",
   "id": "cfb2950f",
   "metadata": {},
   "source": [
    "9. Write a query to find students whose 'math_score' is greater than 'physics_score'."
   ]
  },
  {
   "cell_type": "code",
   "execution_count": 79,
   "id": "ac170ca2",
   "metadata": {},
   "outputs": [
    {
     "name": "stdout",
     "output_type": "stream",
     "text": [
      "{'_id': ObjectId('66eed2f2bd12b27e29034c0f'), 'name': 'Eram', 'age': 22, 'math_score': 78, 'physics_score': 75, 'city': 'Los Angeles'}\n",
      "{'_id': ObjectId('66eed2f2bd12b27e29034c10'), 'name': 'Madan', 'age': 24, 'math_score': 95, 'physics_score': 88, 'city': 'Chicago'}\n",
      "{'_id': ObjectId('66efa838bd12b27e29034c14'), 'name': 'Eram', 'age': 22, 'math_score': 78, 'physics_score': 75, 'city': 'Los Angeles'}\n",
      "{'_id': ObjectId('66efa838bd12b27e29034c15'), 'name': 'Madan', 'age': 24, 'math_score': 95, 'physics_score': 88, 'city': 'Chicago'}\n"
     ]
    }
   ],
   "source": [
    "query = {\"$expr\": {\"$gt\": [\"$math_score\", \"$physics_score\"]}}\n",
    "\n",
    "for student in collection.find(query):\n",
    "    print(student)\n"
   ]
  },
  {
   "cell_type": "markdown",
   "id": "cebc3d1a",
   "metadata": {},
   "source": [
    "10. Write a query to return students sorted by 'math_score' in descending order."
   ]
  },
  {
   "cell_type": "code",
   "execution_count": 80,
   "id": "1b44a3bd",
   "metadata": {},
   "outputs": [
    {
     "name": "stdout",
     "output_type": "stream",
     "text": [
      "{'_id': ObjectId('66eed2f2bd12b27e29034c10'), 'name': 'Madan', 'age': 24, 'math_score': 95, 'physics_score': 88, 'city': 'Chicago'}\n",
      "{'_id': ObjectId('66efa838bd12b27e29034c15'), 'name': 'Madan', 'age': 24, 'math_score': 95, 'physics_score': 88, 'city': 'Chicago'}\n",
      "{'_id': ObjectId('66eed2f2bd12b27e29034c0e'), 'name': 'Rohit', 'age': 23, 'math_score': 85, 'physics_score': 90, 'city': 'New York'}\n",
      "{'_id': ObjectId('66efa838bd12b27e29034c13'), 'name': 'Rohit', 'age': 23, 'math_score': 85, 'physics_score': 90, 'city': 'New York'}\n",
      "{'_id': ObjectId('66eed2f2bd12b27e29034c0f'), 'name': 'Eram', 'age': 22, 'math_score': 78, 'physics_score': 75, 'city': 'Los Angeles'}\n",
      "{'_id': ObjectId('66efa838bd12b27e29034c14'), 'name': 'Eram', 'age': 22, 'math_score': 78, 'physics_score': 75, 'city': 'Los Angeles'}\n",
      "{'_id': ObjectId('66eed2f2bd12b27e29034c12'), 'name': 'Neha', 'age': 23, 'math_score': 72, 'physics_score': 80, 'city': 'Phoenix'}\n",
      "{'_id': ObjectId('66efa838bd12b27e29034c17'), 'name': 'Neha', 'age': 23, 'math_score': 72, 'physics_score': 80, 'city': 'Phoenix'}\n",
      "{'_id': ObjectId('66eed2f2bd12b27e29034c11'), 'name': 'Uvaish', 'age': 21, 'math_score': 60, 'physics_score': 65, 'city': 'Houston'}\n",
      "{'_id': ObjectId('66efa838bd12b27e29034c16'), 'name': 'Uvaish', 'age': 21, 'math_score': 60, 'physics_score': 65, 'city': 'Houston'}\n"
     ]
    }
   ],
   "source": [
    "students_sorted_by_math = collection.find().sort(\"math_score\", -1)\n",
    "\n",
    "for student in students_sorted_by_math:\n",
    "    print(student)\n"
   ]
  },
  {
   "cell_type": "markdown",
   "id": "be69f913",
   "metadata": {},
   "source": [
    "11. Write a query using the aggregation framework to calculate the average 'math_score' of all students."
   ]
  },
  {
   "cell_type": "code",
   "execution_count": 86,
   "id": "8041c7fb",
   "metadata": {},
   "outputs": [
    {
     "name": "stdout",
     "output_type": "stream",
     "text": [
      "{'_id': None, 'average_math_score': 78.0}\n"
     ]
    }
   ],
   "source": [
    "pipeline = [\n",
    "    {\n",
    "        \"$group\": {\n",
    "            \"_id\": None,  # Group all documents together\n",
    "            \"average_math_score\": {\"$avg\": \"$math_score\"}  # Calculate the average of 'math_score'\n",
    "        }\n",
    "    }\n",
    "]\n",
    "\n",
    "result = collection.aggregate(pipeline)\n",
    "\n",
    "for r in result:\n",
    "    print(r)\n"
   ]
  },
  {
   "cell_type": "markdown",
   "id": "cf841104",
   "metadata": {},
   "source": [
    "12. Write a query to group students by 'city' and count the number of students in each city."
   ]
  },
  {
   "cell_type": "code",
   "execution_count": 87,
   "id": "11c79007",
   "metadata": {},
   "outputs": [
    {
     "name": "stdout",
     "output_type": "stream",
     "text": [
      "City: New York, Number of Students: 2\n",
      "City: Chicago, Number of Students: 2\n",
      "City: Houston, Number of Students: 2\n",
      "City: Los Angeles, Number of Students: 2\n",
      "City: Phoenix, Number of Students: 2\n"
     ]
    }
   ],
   "source": [
    "pipeline = [\n",
    "    {\n",
    "        \"$group\": {\n",
    "            \"_id\": \"$city\",  # Group by the 'city' field\n",
    "            \"student_count\": {\"$sum\": 1}  # Count the number of students in each city\n",
    "        }\n",
    "    }\n",
    "]\n",
    "\n",
    "result = collection.aggregate(pipeline)\n",
    "\n",
    "for r in result:\n",
    "    print(f\"City: {r['_id']}, Number of Students: {r['student_count']}\")\n"
   ]
  },
  {
   "cell_type": "markdown",
   "id": "422ec61c",
   "metadata": {},
   "source": [
    "13. Write a query to find students who either have 'math_score' greater than 80 or 'physics_score' greater than 85."
   ]
  },
  {
   "cell_type": "code",
   "execution_count": 90,
   "id": "260dcc6a",
   "metadata": {},
   "outputs": [
    {
     "name": "stdout",
     "output_type": "stream",
     "text": [
      "{'_id': ObjectId('66eed2f2bd12b27e29034c0e'), 'name': 'Rohit', 'age': 23, 'math_score': 85, 'physics_score': 90, 'city': 'New York'}\n",
      "{'_id': ObjectId('66eed2f2bd12b27e29034c10'), 'name': 'Madan', 'age': 24, 'math_score': 95, 'physics_score': 88, 'city': 'Chicago'}\n",
      "{'_id': ObjectId('66efa838bd12b27e29034c13'), 'name': 'Rohit', 'age': 23, 'math_score': 85, 'physics_score': 90, 'city': 'New York'}\n",
      "{'_id': ObjectId('66efa838bd12b27e29034c15'), 'name': 'Madan', 'age': 24, 'math_score': 95, 'physics_score': 88, 'city': 'Chicago'}\n"
     ]
    }
   ],
   "source": [
    "query = {\n",
    "    \"$or\": [\n",
    "        {\"math_score\": {\"$gt\": 80}},\n",
    "        {\"physics_score\": {\"$gt\": 85}}\n",
    "    ]\n",
    "}\n",
    "\n",
    "for student in collection.find(query):\n",
    "    print(student)"
   ]
  },
  {
   "cell_type": "markdown",
   "id": "ca4d6f63",
   "metadata": {},
   "source": [
    "14. Write a query to find students whose age is exactly 23 and live in 'Phoenix'."
   ]
  },
  {
   "cell_type": "code",
   "execution_count": 94,
   "id": "8743c54d",
   "metadata": {},
   "outputs": [
    {
     "name": "stdout",
     "output_type": "stream",
     "text": [
      "{'_id': ObjectId('66eed2f2bd12b27e29034c12'), 'name': 'Neha', 'age': 23, 'math_score': 72, 'physics_score': 80, 'city': 'Phoenix'}\n",
      "{'_id': ObjectId('66efa838bd12b27e29034c17'), 'name': 'Neha', 'age': 23, 'math_score': 72, 'physics_score': 80, 'city': 'Phoenix'}\n"
     ]
    }
   ],
   "source": [
    "query = {\n",
    "    \"age\": 23,\n",
    "    \"city\": \"Phoenix\"\n",
    "}\n",
    "\n",
    "students_in_phoenix = collection.find(query)\n",
    "\n",
    "for student in students_in_phoenix:\n",
    "    print(student)\n"
   ]
  },
  {
   "cell_type": "markdown",
   "id": "2f871c8d",
   "metadata": {},
   "source": [
    "15. Write a query to find students whose 'math_score' is not equal to 85."
   ]
  },
  {
   "cell_type": "code",
   "execution_count": 95,
   "id": "15cec6eb",
   "metadata": {},
   "outputs": [
    {
     "name": "stdout",
     "output_type": "stream",
     "text": [
      "{'_id': ObjectId('66eed2f2bd12b27e29034c0f'), 'name': 'Eram', 'age': 22, 'math_score': 78, 'physics_score': 75, 'city': 'Los Angeles'}\n",
      "{'_id': ObjectId('66eed2f2bd12b27e29034c10'), 'name': 'Madan', 'age': 24, 'math_score': 95, 'physics_score': 88, 'city': 'Chicago'}\n",
      "{'_id': ObjectId('66eed2f2bd12b27e29034c11'), 'name': 'Uvaish', 'age': 21, 'math_score': 60, 'physics_score': 65, 'city': 'Houston'}\n",
      "{'_id': ObjectId('66eed2f2bd12b27e29034c12'), 'name': 'Neha', 'age': 23, 'math_score': 72, 'physics_score': 80, 'city': 'Phoenix'}\n",
      "{'_id': ObjectId('66efa838bd12b27e29034c14'), 'name': 'Eram', 'age': 22, 'math_score': 78, 'physics_score': 75, 'city': 'Los Angeles'}\n",
      "{'_id': ObjectId('66efa838bd12b27e29034c15'), 'name': 'Madan', 'age': 24, 'math_score': 95, 'physics_score': 88, 'city': 'Chicago'}\n",
      "{'_id': ObjectId('66efa838bd12b27e29034c16'), 'name': 'Uvaish', 'age': 21, 'math_score': 60, 'physics_score': 65, 'city': 'Houston'}\n",
      "{'_id': ObjectId('66efa838bd12b27e29034c17'), 'name': 'Neha', 'age': 23, 'math_score': 72, 'physics_score': 80, 'city': 'Phoenix'}\n"
     ]
    }
   ],
   "source": [
    "query = {\"math_score\":{ \"$ne\":85}}\n",
    "result = collection.find(query)\n",
    "for student in result:\n",
    "    print(student)"
   ]
  },
  {
   "cell_type": "code",
   "execution_count": null,
   "id": "31dad59e",
   "metadata": {},
   "outputs": [],
   "source": []
  },
  {
   "cell_type": "markdown",
   "id": "60ea1681",
   "metadata": {},
   "source": [
    "16. Write a query to find students whose 'name' starts with the letter 'A'."
   ]
  },
  {
   "cell_type": "code",
   "execution_count": 98,
   "id": "7bd53a1f",
   "metadata": {},
   "outputs": [
    {
     "name": "stdout",
     "output_type": "stream",
     "text": [
      "{'name': {'$regex': '^A'}}\n"
     ]
    }
   ],
   "source": [
    "query= {\"name\":{\"$regex\":\"^A\"}}\n",
    "result = collection.find(query)\n",
    "print(query)"
   ]
  },
  {
   "cell_type": "markdown",
   "id": "ed20ebf4",
   "metadata": {},
   "source": [
    "17. Write a query to find students whose 'city' is neither 'New York' nor 'Los Angeles'."
   ]
  },
  {
   "cell_type": "code",
   "execution_count": 102,
   "id": "756b4281",
   "metadata": {},
   "outputs": [
    {
     "name": "stdout",
     "output_type": "stream",
     "text": [
      "{'_id': ObjectId('66eed2f2bd12b27e29034c0e'), 'name': 'Rohit', 'age': 23, 'math_score': 85, 'physics_score': 90, 'city': 'New York'}\n",
      "{'_id': ObjectId('66eed2f2bd12b27e29034c0f'), 'name': 'Eram', 'age': 22, 'math_score': 78, 'physics_score': 75, 'city': 'Los Angeles'}\n",
      "{'_id': ObjectId('66eed2f2bd12b27e29034c10'), 'name': 'Madan', 'age': 24, 'math_score': 95, 'physics_score': 88, 'city': 'Chicago'}\n",
      "{'_id': ObjectId('66eed2f2bd12b27e29034c11'), 'name': 'Uvaish', 'age': 21, 'math_score': 60, 'physics_score': 65, 'city': 'Houston'}\n",
      "{'_id': ObjectId('66eed2f2bd12b27e29034c12'), 'name': 'Neha', 'age': 23, 'math_score': 72, 'physics_score': 80, 'city': 'Phoenix'}\n",
      "{'_id': ObjectId('66efa838bd12b27e29034c13'), 'name': 'Rohit', 'age': 23, 'math_score': 85, 'physics_score': 90, 'city': 'New York'}\n",
      "{'_id': ObjectId('66efa838bd12b27e29034c14'), 'name': 'Eram', 'age': 22, 'math_score': 78, 'physics_score': 75, 'city': 'Los Angeles'}\n",
      "{'_id': ObjectId('66efa838bd12b27e29034c15'), 'name': 'Madan', 'age': 24, 'math_score': 95, 'physics_score': 88, 'city': 'Chicago'}\n",
      "{'_id': ObjectId('66efa838bd12b27e29034c16'), 'name': 'Uvaish', 'age': 21, 'math_score': 60, 'physics_score': 65, 'city': 'Houston'}\n",
      "{'_id': ObjectId('66efa838bd12b27e29034c17'), 'name': 'Neha', 'age': 23, 'math_score': 72, 'physics_score': 80, 'city': 'Phoenix'}\n"
     ]
    }
   ],
   "source": [
    "query = {\"$or\":[{\"city\":{\"$ne\":\"New york\"}},{\"city\": {\"$ne\":\"loss Angeles\"}}]}\n",
    "result = collection.find(query)\n",
    "\n",
    "for student in result:\n",
    "    print(student)"
   ]
  },
  {
   "cell_type": "markdown",
   "id": "02cbae8c",
   "metadata": {},
   "source": [
    "18. Write a query to update all students with 'age' greater than 22 to add a new field 'graduated': true."
   ]
  },
  {
   "cell_type": "code",
   "execution_count": 103,
   "id": "9ca814cf",
   "metadata": {},
   "outputs": [
    {
     "name": "stdout",
     "output_type": "stream",
     "text": [
      "{'_id': ObjectId('66eed2f2bd12b27e29034c0e'), 'name': 'Rohit', 'age': 23, 'math_score': 85, 'physics_score': 90, 'city': 'New York', 'graduated': True}\n",
      "{'_id': ObjectId('66eed2f2bd12b27e29034c0f'), 'name': 'Eram', 'age': 22, 'math_score': 78, 'physics_score': 75, 'city': 'Los Angeles'}\n",
      "{'_id': ObjectId('66eed2f2bd12b27e29034c10'), 'name': 'Madan', 'age': 24, 'math_score': 95, 'physics_score': 88, 'city': 'Chicago', 'graduated': True}\n",
      "{'_id': ObjectId('66eed2f2bd12b27e29034c11'), 'name': 'Uvaish', 'age': 21, 'math_score': 60, 'physics_score': 65, 'city': 'Houston'}\n",
      "{'_id': ObjectId('66eed2f2bd12b27e29034c12'), 'name': 'Neha', 'age': 23, 'math_score': 72, 'physics_score': 80, 'city': 'Phoenix', 'graduated': True}\n",
      "{'_id': ObjectId('66efa838bd12b27e29034c13'), 'name': 'Rohit', 'age': 23, 'math_score': 85, 'physics_score': 90, 'city': 'New York', 'graduated': True}\n",
      "{'_id': ObjectId('66efa838bd12b27e29034c14'), 'name': 'Eram', 'age': 22, 'math_score': 78, 'physics_score': 75, 'city': 'Los Angeles'}\n",
      "{'_id': ObjectId('66efa838bd12b27e29034c15'), 'name': 'Madan', 'age': 24, 'math_score': 95, 'physics_score': 88, 'city': 'Chicago', 'graduated': True}\n",
      "{'_id': ObjectId('66efa838bd12b27e29034c16'), 'name': 'Uvaish', 'age': 21, 'math_score': 60, 'physics_score': 65, 'city': 'Houston'}\n",
      "{'_id': ObjectId('66efa838bd12b27e29034c17'), 'name': 'Neha', 'age': 23, 'math_score': 72, 'physics_score': 80, 'city': 'Phoenix', 'graduated': True}\n"
     ]
    }
   ],
   "source": [
    "query = {\"age\": {\"$gt\": 22}}\n",
    "update = {\"$set\": {\"graduated\": True}}\n",
    "collection.update_many(query, update)\n",
    "\n",
    "for student in collection.find():\n",
    "    print(student)"
   ]
  },
  {
   "cell_type": "code",
   "execution_count": null,
   "id": "24708ab9",
   "metadata": {},
   "outputs": [],
   "source": []
  },
  {
   "cell_type": "markdown",
   "id": "d2212656",
   "metadata": {},
   "source": [
    "19. Write a query to remove the 'physics_score' field for students who live in 'Chicago'."
   ]
  },
  {
   "cell_type": "code",
   "execution_count": 104,
   "id": "81ec1267",
   "metadata": {},
   "outputs": [
    {
     "name": "stdout",
     "output_type": "stream",
     "text": [
      "{'_id': ObjectId('66eed2f2bd12b27e29034c0e'), 'name': 'Rohit', 'age': 23, 'math_score': 85, 'physics_score': 90, 'city': 'New York', 'graduated': True}\n",
      "{'_id': ObjectId('66eed2f2bd12b27e29034c0f'), 'name': 'Eram', 'age': 22, 'math_score': 78, 'physics_score': 75, 'city': 'Los Angeles'}\n",
      "{'_id': ObjectId('66eed2f2bd12b27e29034c10'), 'name': 'Madan', 'age': 24, 'math_score': 95, 'city': 'Chicago', 'graduated': True}\n",
      "{'_id': ObjectId('66eed2f2bd12b27e29034c11'), 'name': 'Uvaish', 'age': 21, 'math_score': 60, 'physics_score': 65, 'city': 'Houston'}\n",
      "{'_id': ObjectId('66eed2f2bd12b27e29034c12'), 'name': 'Neha', 'age': 23, 'math_score': 72, 'physics_score': 80, 'city': 'Phoenix', 'graduated': True}\n",
      "{'_id': ObjectId('66efa838bd12b27e29034c13'), 'name': 'Rohit', 'age': 23, 'math_score': 85, 'physics_score': 90, 'city': 'New York', 'graduated': True}\n",
      "{'_id': ObjectId('66efa838bd12b27e29034c14'), 'name': 'Eram', 'age': 22, 'math_score': 78, 'physics_score': 75, 'city': 'Los Angeles'}\n",
      "{'_id': ObjectId('66efa838bd12b27e29034c15'), 'name': 'Madan', 'age': 24, 'math_score': 95, 'city': 'Chicago', 'graduated': True}\n",
      "{'_id': ObjectId('66efa838bd12b27e29034c16'), 'name': 'Uvaish', 'age': 21, 'math_score': 60, 'physics_score': 65, 'city': 'Houston'}\n",
      "{'_id': ObjectId('66efa838bd12b27e29034c17'), 'name': 'Neha', 'age': 23, 'math_score': 72, 'physics_score': 80, 'city': 'Phoenix', 'graduated': True}\n"
     ]
    }
   ],
   "source": [
    "query = {\"city\": \"Chicago\"}\n",
    "update = {\"$unset\": {\"physics_score\": \"\"}}\n",
    "collection.update_many(query, update)\n",
    "\n",
    "for student in collection.find():\n",
    "    print(student)"
   ]
  },
  {
   "cell_type": "code",
   "execution_count": null,
   "id": "eb52a26e",
   "metadata": {},
   "outputs": [],
   "source": []
  },
  {
   "cell_type": "markdown",
   "id": "29fcb8f8",
   "metadata": {},
   "source": [
    "20. Write a query to find the student with the highest 'math_score'."
   ]
  },
  {
   "cell_type": "code",
   "execution_count": 108,
   "id": "0ecb4e1c",
   "metadata": {},
   "outputs": [
    {
     "name": "stdout",
     "output_type": "stream",
     "text": [
      "{'_id': ObjectId('66eed2f2bd12b27e29034c10'), 'name': 'Madan', 'age': 24, 'math_score': 95, 'city': 'Chicago', 'graduated': True}\n",
      "{'_id': ObjectId('66efa838bd12b27e29034c15'), 'name': 'Madan', 'age': 24, 'math_score': 95, 'city': 'Chicago', 'graduated': True}\n"
     ]
    }
   ],
   "source": [
    "query = {\"math_score\": {\"$gte\": 95}}\n",
    "result = collection.find(query)\n",
    "\n",
    "for student in result:\n",
    "    print(student)"
   ]
  },
  {
   "cell_type": "code",
   "execution_count": null,
   "id": "4f647fd1",
   "metadata": {},
   "outputs": [],
   "source": []
  },
  {
   "cell_type": "code",
   "execution_count": null,
   "id": "553525b2",
   "metadata": {},
   "outputs": [],
   "source": []
  }
 ],
 "metadata": {
  "kernelspec": {
   "display_name": "Python 3",
   "language": "python",
   "name": "python3"
  },
  "language_info": {
   "codemirror_mode": {
    "name": "ipython",
    "version": 3
   },
   "file_extension": ".py",
   "mimetype": "text/x-python",
   "name": "python",
   "nbconvert_exporter": "python",
   "pygments_lexer": "ipython3",
   "version": "3.12.6"
  }
 },
 "nbformat": 4,
 "nbformat_minor": 5
}
